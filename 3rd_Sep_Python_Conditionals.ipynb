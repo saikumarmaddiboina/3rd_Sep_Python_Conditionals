{
 "cells": [
  {
   "cell_type": "markdown",
   "id": "8a5d9c0d-5c1f-4ea2-9537-da7f9eeff3ed",
   "metadata": {},
   "source": [
    "Basic If-Else Statements:"
   ]
  },
  {
   "cell_type": "markdown",
   "id": "fd102ccc-0f9a-433e-8c05-ef0900e1b407",
   "metadata": {},
   "source": [
    "1. Write a Python program to check if a given number is positive or negative."
   ]
  },
  {
   "cell_type": "code",
   "execution_count": 4,
   "id": "24ca1ad2-4073-43b6-ad86-3f89eb9bd5a0",
   "metadata": {},
   "outputs": [
    {
     "name": "stdin",
     "output_type": "stream",
     "text": [
      " 2\n"
     ]
    },
    {
     "name": "stdout",
     "output_type": "stream",
     "text": [
      "positive\n"
     ]
    }
   ],
   "source": [
    "n = int(input())\n",
    "\n",
    "if n > 0:\n",
    "    print(\"positive\")\n",
    "elif n == 0:\n",
    "    print(\"Zero\")\n",
    "else:\n",
    "    print(\"Negative\")"
   ]
  },
  {
   "cell_type": "markdown",
   "id": "d96407bd-d171-465d-84f7-1ecbd0f009e9",
   "metadata": {},
   "source": [
    "2. Create a program that determines if a person is eligible to vote based on their age."
   ]
  },
  {
   "cell_type": "code",
   "execution_count": 8,
   "id": "2ede6233-eded-486d-b5a1-5c4fa37d3511",
   "metadata": {},
   "outputs": [
    {
     "name": "stdin",
     "output_type": "stream",
     "text": [
      "Enter the age:  17\n"
     ]
    },
    {
     "name": "stdout",
     "output_type": "stream",
     "text": [
      "You are not eligible to vote\n"
     ]
    }
   ],
   "source": [
    "persons_age = int(input(\"Enter the age: \"))\n",
    "\n",
    "if persons_age >= 18:\n",
    "    print(\"You are eligible to vote\")\n",
    "else:\n",
    "    print(\"You are not eligible to vote\")"
   ]
  },
  {
   "cell_type": "markdown",
   "id": "eb1dd83a-d92a-4aeb-b87b-4190da1386f9",
   "metadata": {},
   "source": [
    "3. Develop a program to find the maximum of two numbers using if-else statements."
   ]
  },
  {
   "cell_type": "code",
   "execution_count": 9,
   "id": "ebb7b74b-b9ca-4f8a-8760-92003a0fe7a1",
   "metadata": {},
   "outputs": [
    {
     "name": "stdout",
     "output_type": "stream",
     "text": [
      "20\n"
     ]
    }
   ],
   "source": [
    "n1 = 10\n",
    "n2 = 20\n",
    "\n",
    "if n1 > n2:\n",
    "    print(n1)\n",
    "else:\n",
    "    print(n2)"
   ]
  },
  {
   "cell_type": "markdown",
   "id": "bb5ce54d-a6be-4f35-b609-35c0d7c37361",
   "metadata": {},
   "source": [
    "4. Write a Python script to classify a given year as a leap year or not."
   ]
  },
  {
   "cell_type": "code",
   "execution_count": 10,
   "id": "a655e7ce-21c3-4c4d-a8de-5f8acfcc7012",
   "metadata": {},
   "outputs": [
    {
     "name": "stdout",
     "output_type": "stream",
     "text": [
      "200 is not a leap year\n"
     ]
    }
   ],
   "source": [
    "year = 200\n",
    "\n",
    "# divided by 100 means century year (ending with 00)\n",
    "# century year divided by 400 is leap year\n",
    "if (year % 400 == 0) and (year % 100 == 0):\n",
    "    print(f\"{year} is a leap year\")\n",
    "\n",
    "# not divided by 100 means not a century year\n",
    "# year divided by 4 is a leap year\n",
    "elif (year % 4 ==0) and (year % 100 != 0):\n",
    "    print(f\"{year} is a leap year\")\n",
    "\n",
    "# if not divided by both 400 (century year) and 4 (not century year)\n",
    "# year is not leap year\n",
    "else:\n",
    "    print(f\"{year} is not a leap year\")"
   ]
  },
  {
   "cell_type": "markdown",
   "id": "2f4fdde5-5079-46df-bd23-1fa326d66300",
   "metadata": {},
   "source": [
    "5. Create a program that checks whether a character is a vowel or a consonant."
   ]
  },
  {
   "cell_type": "code",
   "execution_count": 11,
   "id": "1b324911-258d-443f-9ea5-2dff5ff65913",
   "metadata": {},
   "outputs": [
    {
     "name": "stdout",
     "output_type": "stream",
     "text": [
      "It is a vowel\n"
     ]
    }
   ],
   "source": [
    "char = 'a'\n",
    "\n",
    "if (char == 'a') or (char == 'e') or (char == 'i') or (char == 'o') or (char == 'u'):\n",
    "    print(\"It is a vowel\")\n",
    "else:\n",
    "    print(\"It's not a vowel\")"
   ]
  },
  {
   "cell_type": "markdown",
   "id": "bf31a59c-7a6f-445b-af7c-131427e23ee1",
   "metadata": {},
   "source": [
    "6. Implement a program to determine whether a given number is even or odd."
   ]
  },
  {
   "cell_type": "code",
   "execution_count": 16,
   "id": "b25f06d3-15b8-4843-a535-8461bee1380a",
   "metadata": {},
   "outputs": [
    {
     "name": "stdout",
     "output_type": "stream",
     "text": [
      "Even\n"
     ]
    }
   ],
   "source": [
    "n = 10\n",
    "\n",
    "if n % 2 == 0:\n",
    "    print(\"Even\")\n",
    "elif n == 0:\n",
    "    print(\"Zero\")\n",
    "else:\n",
    "    print(\"Odd\")"
   ]
  },
  {
   "cell_type": "markdown",
   "id": "8c73d197-b4d1-4c35-8d7e-df7ee89f6b8a",
   "metadata": {},
   "source": [
    "7. Write a Python function to calculate the absolute value of a number without using the `abs()` function."
   ]
  },
  {
   "cell_type": "code",
   "execution_count": 18,
   "id": "8a82c15c-e342-4220-83e6-3b8ea3e9040e",
   "metadata": {},
   "outputs": [
    {
     "data": {
      "text/plain": [
       "10"
      ]
     },
     "execution_count": 18,
     "metadata": {},
     "output_type": "execute_result"
    }
   ],
   "source": [
    "def abs_value(n):\n",
    "    if n < 0:\n",
    "        return -n\n",
    "    else:\n",
    "        return n\n",
    "abs_value(-10)\n",
    "    "
   ]
  },
  {
   "cell_type": "markdown",
   "id": "425b9dba-07e6-4a0e-b20c-a121e69821b8",
   "metadata": {},
   "source": [
    "8. Develop a program that determines the largest of three given numbers using if-else statements."
   ]
  },
  {
   "cell_type": "code",
   "execution_count": 19,
   "id": "815e879a-e079-4e2c-a580-b09567a51c8b",
   "metadata": {},
   "outputs": [
    {
     "name": "stdout",
     "output_type": "stream",
     "text": [
      "30 is the largest of the three\n"
     ]
    }
   ],
   "source": [
    "n1 = 10\n",
    "n2 = 20\n",
    "n3 = 30\n",
    "\n",
    "if (n1 > n2) and (n1 > n3):\n",
    "    print(f\"{n1} is the largest of the three\")\n",
    "elif (n2 > n1) and (n2 > n3):\n",
    "     print(f\"{n2} is the largest of the three\")\n",
    "else:\n",
    "    print(f\"{n3} is the largest of the three\")"
   ]
  },
  {
   "cell_type": "markdown",
   "id": "7a04764b-4008-483e-98ca-d33bf70090a7",
   "metadata": {},
   "source": [
    "9. Create a program that checks if a given string is a palindrome."
   ]
  },
  {
   "cell_type": "code",
   "execution_count": 22,
   "id": "7d2dcb7f-65a8-4d8f-8188-61ee6fc7cb07",
   "metadata": {},
   "outputs": [
    {
     "name": "stdout",
     "output_type": "stream",
     "text": [
      "It is a palindrome\n"
     ]
    }
   ],
   "source": [
    "string = '121'\n",
    "\n",
    "if string == string[::-1]:\n",
    "    print(\"It is a palindrome\")\n",
    "else:\n",
    "      print(\"It is not a palindrome\")"
   ]
  },
  {
   "cell_type": "markdown",
   "id": "8baecd33-a6a0-4b21-b41b-c3e5a57b6fcc",
   "metadata": {},
   "source": [
    "10. Write a Python program to calculate the grade based on a student's score."
   ]
  },
  {
   "cell_type": "code",
   "execution_count": 2,
   "id": "1c5c7b4e-a4e4-40ad-9a39-1f67bfb0ddec",
   "metadata": {},
   "outputs": [
    {
     "name": "stdout",
     "output_type": "stream",
     "text": [
      "A Grade\n"
     ]
    }
   ],
   "source": [
    "score = 80\n",
    "\n",
    "if score >= 80:\n",
    "    print(\"A Grade\")\n",
    "elif score >= 60:\n",
    "    print(\"B Grade\")\n",
    "elif score >= 35:\n",
    "    print(\"C Grade\")\n",
    "else:\n",
    "    print(\"Fail\")"
   ]
  },
  {
   "cell_type": "markdown",
   "id": "c3f6523b-1423-4d8a-9093-91f3a79baf66",
   "metadata": {},
   "source": [
    "Nested If-Else Statements:"
   ]
  },
  {
   "cell_type": "markdown",
   "id": "98a61dc8-09de-4f5d-9202-a8c967c9d434",
   "metadata": {},
   "source": [
    "11. Write a program to find the largest among three numbers using nested if-else statements."
   ]
  },
  {
   "cell_type": "code",
   "execution_count": 29,
   "id": "41652570-9406-4f1c-8cf5-7152eae4b98a",
   "metadata": {},
   "outputs": [
    {
     "name": "stdout",
     "output_type": "stream",
     "text": [
      "30 is the largest of the three\n"
     ]
    }
   ],
   "source": [
    "n1 = 10\n",
    "n2 = 20\n",
    "n3 = 30\n",
    "\n",
    "if (n1 > n2) and (n1 > n3):\n",
    "    print(f\"{n1} is the largest of the three\")\n",
    "    if (n2 > n1) and (n2 > n3):\n",
    "        print(f\"{n2} is the largest of the three\")\n",
    "else:\n",
    "    print(f\"{n3} is the largest of the three\")"
   ]
  },
  {
   "cell_type": "markdown",
   "id": "8fd1d200-5aca-4c22-b079-f366666bace1",
   "metadata": {},
   "source": [
    "12. Implement a program to determine if a triangle is equilateral, isosceles, or scalene."
   ]
  },
  {
   "cell_type": "code",
   "execution_count": 46,
   "id": "f4d609d5-8437-4e4a-9ea7-6b157d43b3a9",
   "metadata": {},
   "outputs": [
    {
     "name": "stdout",
     "output_type": "stream",
     "text": [
      "Scalene\n"
     ]
    }
   ],
   "source": [
    "a = 30\n",
    "b = 20\n",
    "c = 10\n",
    "\n",
    "if a == b == c:\n",
    "    print(\"Equilateral\")\n",
    "    if (a==b!=c) or (a!=b==c) or (a==c!=b):\n",
    "        print(\"Isosceles\")\n",
    "else:\n",
    "    print(\"Scalene\")"
   ]
  },
  {
   "cell_type": "markdown",
   "id": "cf38dd9d-5813-4632-ac62-ec46366a2fb4",
   "metadata": {},
   "source": [
    "13. Develop a program that checks if a year is a leap year and also if it is a century year."
   ]
  },
  {
   "cell_type": "code",
   "execution_count": 47,
   "id": "8004184d-106a-4576-9373-c95553be0c77",
   "metadata": {},
   "outputs": [
    {
     "name": "stdout",
     "output_type": "stream",
     "text": [
      "Not a leap year and Not a century year\n"
     ]
    }
   ],
   "source": [
    "year = 2004\n",
    "\n",
    "if (year % 100 == 0) and (year % 400 == 0):\n",
    "    print(\"leap year & century year\")\n",
    "    if (year % 100 !=0) and (year % 4 == 0):\n",
    "        print(\"leap year but not century year\")\n",
    "else:\n",
    "    print(\"Not a leap year and Not a century year\")"
   ]
  },
  {
   "cell_type": "markdown",
   "id": "87129737-a18e-4787-8539-b1840a832bc7",
   "metadata": {},
   "source": [
    "14. Write a Python script to determine if a number is positive, negative, or zero."
   ]
  },
  {
   "cell_type": "code",
   "execution_count": 48,
   "id": "404fde5e-cccd-4e59-91af-3351ffc23736",
   "metadata": {},
   "outputs": [
    {
     "name": "stdin",
     "output_type": "stream",
     "text": [
      " 10\n"
     ]
    },
    {
     "name": "stdout",
     "output_type": "stream",
     "text": [
      "positive\n"
     ]
    }
   ],
   "source": [
    "n = int(input())\n",
    "\n",
    "if n > 0:\n",
    "    print(\"positive\")\n",
    "    if n == 0:\n",
    "        print(\"Zero\")\n",
    "else:\n",
    "    print(\"Negative\")"
   ]
  },
  {
   "cell_type": "markdown",
   "id": "7fe5aa71-f1ea-4dab-a348-da1af797b93e",
   "metadata": {},
   "source": [
    "15. Create a program to check if a person is a teenager (between 13 and 19 years old)."
   ]
  },
  {
   "cell_type": "code",
   "execution_count": 49,
   "id": "560b473c-fa2f-48d4-ad52-eaf5df5baf6c",
   "metadata": {},
   "outputs": [
    {
     "name": "stdout",
     "output_type": "stream",
     "text": [
      "Above teenager\n"
     ]
    }
   ],
   "source": [
    "age = 20\n",
    "\n",
    "if (age >= 13) and (age < 19):\n",
    "    print(\"Teenager\")\n",
    "    if age <13:\n",
    "        print(\"Below teenager\")\n",
    "else:\n",
    "    print(\"Above teenager\")"
   ]
  },
  {
   "cell_type": "markdown",
   "id": "eb29a6a6-f5b4-4716-af68-4db4509a5a52",
   "metadata": {},
   "source": [
    "16. Develop a program that determines the type of angle based on its measure (acute, obtuse, or right)."
   ]
  },
  {
   "cell_type": "code",
   "execution_count": 51,
   "id": "610ccd24-afb5-4c40-9489-e5190275683d",
   "metadata": {},
   "outputs": [
    {
     "name": "stdout",
     "output_type": "stream",
     "text": [
      "Obtuse Angle\n"
     ]
    }
   ],
   "source": [
    "angle_in_degree = 90\n",
    "\n",
    "if angle_in_degree < 90:\n",
    "    print(\"Acute angle\")\n",
    "    if angle_in_degree  == 90:\n",
    "        print(\"Right angle\")\n",
    "else:\n",
    "    print(\"Obtuse Angle\")\n"
   ]
  },
  {
   "cell_type": "markdown",
   "id": "cf671a32-5abe-40ca-8ff8-6cf64d911933",
   "metadata": {},
   "source": [
    "17. Write a Python program to calculate the roots of a quadratic equation."
   ]
  },
  {
   "cell_type": "code",
   "execution_count": 52,
   "id": "4201d785-450c-4c34-892d-5a37a76b7cff",
   "metadata": {},
   "outputs": [
    {
     "name": "stdout",
     "output_type": "stream",
     "text": [
      "The solution are (-3+0j) and (-2+0j)\n"
     ]
    }
   ],
   "source": [
    "#ax**2 + bx + c = 0\n",
    "import cmath\n",
    "a = 1\n",
    "b = 5\n",
    "c = 6\n",
    "# calculate the discriminant\n",
    "d = (b**2) - (4*a*c)\n",
    "# find two solutions\n",
    "sol1 = (-b-cmath.sqrt(d))/(2*a)\n",
    "sol2 = (-b+cmath.sqrt(d))/(2*a)\n",
    "\n",
    "print('The solution are {0} and {1}'.format(sol1,sol2))"
   ]
  },
  {
   "cell_type": "markdown",
   "id": "9da250fd-1470-4413-92bf-73b77ed278a1",
   "metadata": {},
   "source": [
    "18. Implement a program to determine the day of the week based on a user-provided number (1 for Monday, 2\n",
    "for Tuesday, etc.)."
   ]
  },
  {
   "cell_type": "code",
   "execution_count": 65,
   "id": "1900899e-ed0e-4c37-b129-2164b39a386a",
   "metadata": {},
   "outputs": [
    {
     "name": "stdin",
     "output_type": "stream",
     "text": [
      "Enter the Day:  MoNdaY\n"
     ]
    },
    {
     "name": "stdout",
     "output_type": "stream",
     "text": [
      "1\n"
     ]
    }
   ],
   "source": [
    "Day = input(\"Enter the Day: \").lower()\n",
    "\n",
    "if Day == 'monday':\n",
    "    print(\"1\")\n",
    "    if Day =='tuesday':\n",
    "        print(\"2\")\n",
    "        if Day =='wednesday':\n",
    "            print(\"3\")\n",
    "            if Day =='thursday':\n",
    "                print(\"4\")\n",
    "                if Day =='friday':\n",
    "                    print(\"5\")\n",
    "                    if Day =='saturday':\n",
    "                        print(\"6\")\n",
    "else:\n",
    "    print(\"7\")"
   ]
  },
  {
   "cell_type": "markdown",
   "id": "1108d578-567d-496c-b682-fad11adea73a",
   "metadata": {},
   "source": [
    "19. Create a program that determines if a year is a leap year and also if it is evenly divisible by 400."
   ]
  },
  {
   "cell_type": "code",
   "execution_count": 67,
   "id": "cc433d5e-4ef5-4422-97e1-6d4867f8734e",
   "metadata": {},
   "outputs": [
    {
     "name": "stdin",
     "output_type": "stream",
     "text": [
      "Enter a year:  200\n"
     ]
    },
    {
     "name": "stdout",
     "output_type": "stream",
     "text": [
      "200 is not a leap year.\n"
     ]
    }
   ],
   "source": [
    "year = int(input(\"Enter a year: \"))\n",
    "\n",
    "if (year % 4 == 0 and year % 100 != 0) or (year % 400 == 0):\n",
    "    print(f\"{year} is a leap year.\")\n",
    "else:\n",
    "    print(f\"{year} is not a leap year.\")\n"
   ]
  },
  {
   "cell_type": "markdown",
   "id": "98c59fcc-b5fd-4b2e-b2ab-f72e5a94bfe1",
   "metadata": {},
   "source": [
    "20. Develop a program that checks if a given number is prime or not using nested if-else statements."
   ]
  },
  {
   "cell_type": "code",
   "execution_count": 73,
   "id": "6d72ad2a-3f05-4ac6-81d6-5abbb099ab72",
   "metadata": {},
   "outputs": [
    {
     "name": "stdout",
     "output_type": "stream",
     "text": [
      "Non-Prime\n"
     ]
    }
   ],
   "source": [
    "n = 20\n",
    "\n",
    "if n == 0 or n == 1:\n",
    "    print(\"Non-Prime Numbers\")\n",
    "elif n == 2:\n",
    "    print(\"Prime\")\n",
    "else:\n",
    "    is_prime = True\n",
    "    for i in range(2, n):\n",
    "        if n % i == 0:\n",
    "            is_prime = False\n",
    "            break\n",
    "    if is_prime:\n",
    "        print(\"Prime\")\n",
    "    else:\n",
    "        print(\"Non-Prime\")\n"
   ]
  },
  {
   "cell_type": "markdown",
   "id": "a42196e6-515d-43ca-8f5f-3cdc0628c0bd",
   "metadata": {},
   "source": [
    "Elif Statements:"
   ]
  },
  {
   "cell_type": "markdown",
   "id": "4b619b15-ebb8-4b69-882e-9acb5462efb5",
   "metadata": {},
   "source": [
    "21. Write a Python program to assign grades based on different ranges of scores using elif statements."
   ]
  },
  {
   "cell_type": "code",
   "execution_count": 3,
   "id": "25270ccb-21db-4c43-a89b-57e6801bdf06",
   "metadata": {},
   "outputs": [
    {
     "name": "stdout",
     "output_type": "stream",
     "text": [
      "A Grade\n"
     ]
    }
   ],
   "source": [
    "score = 80\n",
    "\n",
    "if score >= 80:\n",
    "    print(\"A Grade\")\n",
    "elif score >= 60:\n",
    "    print(\"B Grade\")\n",
    "elif score >= 35:\n",
    "    print(\"C Grade\")\n",
    "else:\n",
    "    print(\"Fail\")"
   ]
  },
  {
   "cell_type": "markdown",
   "id": "8052d296-0368-418d-8969-89aba991a9c1",
   "metadata": {},
   "source": [
    "22. Implement a program to determine the type of a triangle based on its angles."
   ]
  },
  {
   "cell_type": "code",
   "execution_count": 5,
   "id": "9ae14ebd-6453-46b0-bb45-3f2a625fb6eb",
   "metadata": {},
   "outputs": [
    {
     "name": "stdout",
     "output_type": "stream",
     "text": [
      "Right angle\n"
     ]
    }
   ],
   "source": [
    "angle_in_degree = 90\n",
    "\n",
    "if angle_in_degree < 90:\n",
    "    print(\"Acute angle\")\n",
    "elif angle_in_degree  == 90:\n",
    "    print(\"Right angle\")\n",
    "else:\n",
    "    print(\"Obtuse Angle\")"
   ]
  },
  {
   "cell_type": "markdown",
   "id": "4f237f79-20ae-4b8a-9488-0c1132937f0b",
   "metadata": {},
   "source": [
    "23. Develop a program to categorize a given person's BMI into underweight, normal, overweight, or obese using\n",
    "elif statements."
   ]
  },
  {
   "cell_type": "code",
   "execution_count": 6,
   "id": "dccfe6d7-0d33-4244-ab0b-5da2929463cc",
   "metadata": {},
   "outputs": [
    {
     "name": "stdout",
     "output_type": "stream",
     "text": [
      "Underweight\n"
     ]
    }
   ],
   "source": [
    "BMI = 20\n",
    "\n",
    "if BMI >= 21 and BMI <=25 :\n",
    "    print(\"Normal\")\n",
    "elif BMI >25:\n",
    "    print(\"Overweigth\")\n",
    "else:\n",
    "    print(\"Underweight\")"
   ]
  },
  {
   "cell_type": "markdown",
   "id": "7642bf41-a64a-47db-b44f-4ceba3d27419",
   "metadata": {},
   "source": [
    "24. Create a program that determines whether a given number is positive, negative, or zero using elif\n",
    "statements."
   ]
  },
  {
   "cell_type": "code",
   "execution_count": 7,
   "id": "1d87a3ee-fb22-43fa-92cd-c066aaf2d4ab",
   "metadata": {},
   "outputs": [
    {
     "name": "stdin",
     "output_type": "stream",
     "text": [
      " 100\n"
     ]
    },
    {
     "name": "stdout",
     "output_type": "stream",
     "text": [
      "positive\n"
     ]
    }
   ],
   "source": [
    "n = int(input())\n",
    "\n",
    "if n > 0:\n",
    "    print(\"positive\")\n",
    "elif n == 0:\n",
    "    print(\"Zero\")\n",
    "else:\n",
    "    print(\"Negative\")"
   ]
  },
  {
   "cell_type": "markdown",
   "id": "562f83f1-b58c-4a53-b67e-fc91c6d975e3",
   "metadata": {},
   "source": [
    "25. Write a Python script to determine the type of a character (uppercase, lowercase, or special) using elif\n",
    "statements."
   ]
  },
  {
   "cell_type": "code",
   "execution_count": 14,
   "id": "a4ed976d-27f1-41bb-92d4-bf82179ed0be",
   "metadata": {},
   "outputs": [
    {
     "name": "stdout",
     "output_type": "stream",
     "text": [
      "Upper\n"
     ]
    }
   ],
   "source": [
    "string ='SAIKUMAR'\n",
    "\n",
    "if string.isupper:\n",
    "    print(\"Upper\")\n",
    "elif string.islower:\n",
    "    print(\"Lower\")\n",
    "elif not string.isalnum:\n",
    "    print(\"special\")\n",
    "else:\n",
    "    print(\"None of the above\")"
   ]
  },
  {
   "cell_type": "markdown",
   "id": "a7215e57-3485-4f49-b37e-5330d5879563",
   "metadata": {},
   "source": [
    "26. Implement a program to calculate the discounted price based on different purchase amounts using elif\n",
    "statements."
   ]
  },
  {
   "cell_type": "code",
   "execution_count": 16,
   "id": "a2e570e5-5ffb-4022-a942-b8ea26f93598",
   "metadata": {},
   "outputs": [
    {
     "name": "stdout",
     "output_type": "stream",
     "text": [
      "90.0\n"
     ]
    }
   ],
   "source": [
    "Purchase_Price = 100\n",
    "\n",
    "if Purchase_Price >= 100:\n",
    "    #Discount=10%\n",
    "    Price = 100*(1 - 0.1)\n",
    "    print(Price)\n",
    "elif Purchase_Price >=80:\n",
    "    #Discount=6%\n",
    "    Price = 100*(1 - 0.06)\n",
    "else:\n",
    "    Price(Purchase_Price)\n",
    "    "
   ]
  },
  {
   "cell_type": "markdown",
   "id": "87deebcf-9e3b-4c0d-8387-7e1900b7ddbc",
   "metadata": {},
   "source": [
    "27. Develop a program to calculate the electricity bill based on different consumption slabs using elif\n",
    "statements."
   ]
  },
  {
   "cell_type": "code",
   "execution_count": 23,
   "id": "c5c4674e-f351-45c4-b649-d3c02460fc6d",
   "metadata": {},
   "outputs": [
    {
     "name": "stdout",
     "output_type": "stream",
     "text": [
      "1000\n"
     ]
    }
   ],
   "source": [
    "Units = 100\n",
    "\n",
    "if Units >= 100:\n",
    "    unit_price = 10\n",
    "    Total_Price = Units * unit_price\n",
    "    print(Total_Price)\n",
    "elif Units >=80:\n",
    "    Unit_price = 12\n",
    "    Total_Price = Units * unit_price\n",
    "    print(Total_Price)\n",
    "else:\n",
    "    Total_Price = Units * 15\n",
    "    print(Total_Price)"
   ]
  },
  {
   "cell_type": "markdown",
   "id": "81c96fab-cd0f-4604-92f8-d5b9ed16dc65",
   "metadata": {},
   "source": [
    "28. Create a program to determine the type of quadrilateral based on its angles and sides using elif\n",
    "statements."
   ]
  },
  {
   "cell_type": "code",
   "execution_count": 24,
   "id": "cfd98366-9647-43a9-bf6b-74834ed3e597",
   "metadata": {},
   "outputs": [
    {
     "name": "stdin",
     "output_type": "stream",
     "text": [
      "Enter the length of the first side:  22\n",
      "Enter the length of the second side:  23\n",
      "Enter the length of the third side:  33\n",
      "Enter the length of the fourth side:  2\n",
      "Enter the measure of the first angle in degrees:  90\n",
      "Enter the measure of the second angle in degrees:  90\n",
      "Enter the measure of the third angle in degrees:  90\n",
      "Enter the measure of the fourth angle in degrees:  78\n"
     ]
    },
    {
     "name": "stdout",
     "output_type": "stream",
     "text": [
      "It is a general quadrilateral.\n"
     ]
    }
   ],
   "source": [
    "# Input the lengths of the four sides\n",
    "side1 = float(input(\"Enter the length of the first side: \"))\n",
    "side2 = float(input(\"Enter the length of the second side: \"))\n",
    "side3 = float(input(\"Enter the length of the third side: \"))\n",
    "side4 = float(input(\"Enter the length of the fourth side: \"))\n",
    "\n",
    "# Input the measures of the four angles\n",
    "angle1 = float(input(\"Enter the measure of the first angle in degrees: \"))\n",
    "angle2 = float(input(\"Enter the measure of the second angle in degrees: \"))\n",
    "angle3 = float(input(\"Enter the measure of the third angle in degrees: \"))\n",
    "angle4 = float(input(\"Enter the measure of the fourth angle in degrees: \"))\n",
    "\n",
    "# Check for the type of quadrilateral using elif statements\n",
    "if angle1 == angle2 == angle3 == angle4 == 90:\n",
    "    if side1 == side2 == side3 == side4:\n",
    "        print(\"It is a square.\")\n",
    "    else:\n",
    "        print(\"It is a rectangle.\")\n",
    "elif side1 == side3 and side2 == side4:\n",
    "    print(\"It is a trapezoid.\")\n",
    "else:\n",
    "    print(\"It is a general quadrilateral.\")"
   ]
  },
  {
   "cell_type": "code",
   "execution_count": 27,
   "id": "9754cf44-fa77-4b4c-a387-842223ec831f",
   "metadata": {},
   "outputs": [
    {
     "name": "stdin",
     "output_type": "stream",
     "text": [
      "Enter a month (e.g., January, February, etc.):  January\n"
     ]
    },
    {
     "name": "stdout",
     "output_type": "stream",
     "text": [
      "January is in the winter season.\n"
     ]
    }
   ],
   "source": [
    "# Input a month from the user\n",
    "month = input(\"Enter a month (e.g., January, February, etc.): \").lower()\n",
    "\n",
    "# Define the seasons and their respective months\n",
    "spring_months = [\"march\", \"april\", \"may\"]\n",
    "summer_months = [\"june\", \"july\", \"august\"]\n",
    "fall_months = [\"september\", \"october\", \"november\"]\n",
    "winter_months = [\"december\", \"january\", \"february\"]\n",
    "\n",
    "# Check the input month and determine the season\n",
    "if month in spring_months:\n",
    "    print(f\"{month.capitalize()} is in the spring season.\")\n",
    "elif month in summer_months:\n",
    "    print(f\"{month.capitalize()} is in the summer season.\")\n",
    "elif month in fall_months:\n",
    "    print(f\"{month.capitalize()} is in the fall season.\")\n",
    "elif month in winter_months:\n",
    "    print(f\"{month.capitalize()} is in the winter season.\")\n",
    "else:\n",
    "    print(\"Invalid input. Please enter a valid month.\")"
   ]
  },
  {
   "cell_type": "markdown",
   "id": "07ee32b6-e96a-459e-9d6a-176f43832e88",
   "metadata": {},
   "source": [
    "30. Implement a program to determine the type of a year (leap or common) and month (30 or 31 days) using\n",
    "elif statements."
   ]
  },
  {
   "cell_type": "code",
   "execution_count": 30,
   "id": "a3f2a889-a0d3-44fe-a4f2-0e36b4838599",
   "metadata": {},
   "outputs": [
    {
     "name": "stdin",
     "output_type": "stream",
     "text": [
      "Enter a year:  222\n",
      "Enter a month (e.g., January, February, etc.):  ddd\n"
     ]
    },
    {
     "name": "stdout",
     "output_type": "stream",
     "text": [
      "Invalid input for month.\n"
     ]
    }
   ],
   "source": [
    "# Input a year from the user\n",
    "year = int(input(\"Enter a year: \"))\n",
    "\n",
    "# Input a month from the user\n",
    "month = input(\"Enter a month (e.g., January, February, etc.): \").lower()\n",
    "\n",
    "# Determine if it's a leap year\n",
    "if (year % 4 == 0 and year % 100 != 0) or (year % 400 == 0):\n",
    "    is_leap_year = True\n",
    "else:\n",
    "    is_leap_year = False\n",
    "\n",
    "# Use elif statements to determine the number of days in the month\n",
    "if month in [\"january\", \"march\", \"may\", \"july\", \"august\", \"october\", \"december\"]:\n",
    "    days_in_month = 31\n",
    "elif month in [\"april\", \"june\", \"september\", \"november\"]:\n",
    "    days_in_month = 30\n",
    "elif month == \"february\":\n",
    "    if is_leap_year:\n",
    "        days_in_month = 29\n",
    "    else:\n",
    "        days_in_month = 28\n",
    "else:\n",
    "    print(\"Invalid input for month.\")\n",
    "    days_in_month = None\n",
    "\n",
    "# Print the results\n",
    "if days_in_month is not None:\n",
    "    if is_leap_year:\n",
    "        print(f\"{year} is a leap year.\")\n",
    "    else:\n",
    "        print(f\"{year} is a common year.\")\n",
    "    print(f\"{month.capitalize()} has {days_in_month} days.\")"
   ]
  },
  {
   "cell_type": "markdown",
   "id": "44018ad2-0072-4c69-aff9-06c3f3e35726",
   "metadata": {},
   "source": [
    "31. Create a program that validates a password based on complexity rules (length, characters, etc.)."
   ]
  },
  {
   "cell_type": "code",
   "execution_count": 31,
   "id": "5b36a9b7-a592-4466-88e0-5d8f0256c6e8",
   "metadata": {},
   "outputs": [
    {
     "name": "stdin",
     "output_type": "stream",
     "text": [
      "Enter a password:  2u013hvhavxv%\n"
     ]
    },
    {
     "name": "stdout",
     "output_type": "stream",
     "text": [
      "Invalid password\n"
     ]
    }
   ],
   "source": [
    "import re\n",
    "\n",
    "def valid_password(password):\n",
    "    if len(password) < 8:\n",
    "        return False\n",
    "    if not any(char.isupper() for char in password):\n",
    "        return False\n",
    "    if not any(char.islower() for char in password):\n",
    "        return False\n",
    "    if not any(char.isdigit() for char in password):\n",
    "        return False\n",
    "    if not re.search(r'[!@#$%^&*(),.?\":{}|<>]', password):\n",
    "        return False\n",
    "    return True\n",
    "password = input(\"Enter a password: \")\n",
    "if valid_password(password):\n",
    "    print(\"Valid password\")\n",
    "else:\n",
    "    print(\"Invalid password\")\n",
    "               "
   ]
  },
  {
   "cell_type": "markdown",
   "id": "f1b8801f-069b-4d0c-b109-d29ccb67e85f",
   "metadata": {},
   "source": [
    "32. Develop a program that performs matrix addition and subtraction based on user input."
   ]
  },
  {
   "cell_type": "code",
   "execution_count": 37,
   "id": "f7964cbf-e0da-412d-87a2-3583302a4f31",
   "metadata": {},
   "outputs": [
    {
     "name": "stdin",
     "output_type": "stream",
     "text": [
      "Enter the number of rows:  1\n",
      "Enter the number of columns:  1\n"
     ]
    },
    {
     "name": "stdout",
     "output_type": "stream",
     "text": [
      "Enter elements of the first matrix:\n"
     ]
    },
    {
     "name": "stdin",
     "output_type": "stream",
     "text": [
      "Enter element at row 1, column 1:  1\n"
     ]
    },
    {
     "name": "stdout",
     "output_type": "stream",
     "text": [
      "Enter elements of the second matrix:\n"
     ]
    },
    {
     "name": "stdin",
     "output_type": "stream",
     "text": [
      "Enter element at row 1, column 1:  1\n"
     ]
    },
    {
     "name": "stdout",
     "output_type": "stream",
     "text": [
      "Printing elements of first matrix:\n",
      "1 \n",
      "Printing elements of second matrix:\n",
      "1 \n",
      "Subtraction of two matrices:\n",
      "0 \n",
      "Addition of two matrices:\n",
      "2 \n"
     ]
    }
   ],
   "source": [
    "# Function to input a matrix from the user\n",
    "def input_matrix(rows, cols):\n",
    "    matrix = []\n",
    "    for i in range(rows):\n",
    "        row = []\n",
    "        for j in range(cols):\n",
    "            element = int(input(f\"Enter element at row {i + 1}, column {j + 1}: \"))\n",
    "            row.append(element)\n",
    "        matrix.append(row)\n",
    "    return matrix\n",
    "\n",
    "# Input the dimensions of the matrices\n",
    "rows = int(input(\"Enter the number of rows: \"))\n",
    "cols = int(input(\"Enter the number of columns: \"))\n",
    "\n",
    "# Input the first matrix\n",
    "print(\"Enter elements of the first matrix:\")\n",
    "matrix1 = input_matrix(rows, cols)\n",
    "\n",
    "# Input the second matrix\n",
    "print(\"Enter elements of the second matrix:\")\n",
    "matrix2 = input_matrix(rows, cols)\n",
    "\n",
    "# Printing elements of matrix1\n",
    "print(\"Printing elements of first matrix:\")\n",
    "for row in matrix1:\n",
    "    for element in row:\n",
    "        print(element, end=\" \")\n",
    "    print()\n",
    "\n",
    "# Printing elements of matrix2\n",
    "print(\"Printing elements of second matrix:\")\n",
    "for row in matrix2:\n",
    "    for element in row:\n",
    "        print(element, end=\" \")\n",
    "    print()\n",
    "\n",
    "# Subtracting two matrices\n",
    "result = [[0 for i in range(cols)] for i in range(rows)]\n",
    "for i in range(len(matrix1)):\n",
    "    for j in range(len(matrix1[0])):\n",
    "        result[i][j] = matrix1[i][j] - matrix2[i][j]\n",
    "\n",
    "# Printing the result\n",
    "print(\"Subtraction of two matrices:\")\n",
    "for row in result:\n",
    "    for element in row:\n",
    "        print(element, end=\" \")\n",
    "    print()\n",
    "    \n",
    "# adding two matrices\n",
    "result = [[0 for i in range(cols)] for i in range(rows)]\n",
    "for i in range(len(matrix1)):\n",
    "    for j in range(len(matrix1[0])):\n",
    "        result[i][j] = matrix1[i][j] + matrix2[i][j]\n",
    "\n",
    "# Printing the result\n",
    "print(\"Addition of two matrices:\")\n",
    "for row in result:\n",
    "    for element in row:\n",
    "        print(element, end=\" \")\n",
    "    print()"
   ]
  },
  {
   "cell_type": "markdown",
   "id": "6e022222-0bec-4669-9208-eefbb072bd39",
   "metadata": {},
   "source": [
    "33. Write a program that calculates the greatest common divisor (GCD) of two numbers using the Euclidean\n",
    "algorithm."
   ]
  },
  {
   "cell_type": "code",
   "execution_count": 38,
   "id": "b16c89de-1338-424e-ad0f-3d41699a36bb",
   "metadata": {},
   "outputs": [
    {
     "name": "stdin",
     "output_type": "stream",
     "text": [
      "Enter the first number:  22\n",
      "Enter the second number:  34\n"
     ]
    },
    {
     "name": "stdout",
     "output_type": "stream",
     "text": [
      "The GCD of 22 and 34 is 2\n"
     ]
    }
   ],
   "source": [
    "# Function to calculate the GCD using the Euclidean algorithm\n",
    "def euclidean_gcd(a, b):\n",
    "    while b:\n",
    "        a, b = b, a % b\n",
    "    return a\n",
    "\n",
    "# Input two numbers from the user\n",
    "num1 = int(input(\"Enter the first number: \"))\n",
    "num2 = int(input(\"Enter the second number: \"))\n",
    "\n",
    "# Calculate the GCD using the Euclidean algorithm\n",
    "gcd = euclidean_gcd(num1, num2)\n",
    "\n",
    "# Display the result\n",
    "print(f\"The GCD of {num1} and {num2} is {gcd}\")"
   ]
  },
  {
   "cell_type": "code",
   "execution_count": 1,
   "id": "e0f75d00-f877-492c-95d3-3b59e1be316e",
   "metadata": {},
   "outputs": [
    {
     "name": "stdin",
     "output_type": "stream",
     "text": [
      "Enter the number of rows for the first matrix:  2\n",
      "Enter the number of columns for the first matrix:  2\n",
      "Enter the number of rows for the second matrix:  2\n",
      "Enter the number of columns for the second matrix:  2\n"
     ]
    },
    {
     "name": "stdout",
     "output_type": "stream",
     "text": [
      "Enter elements of the first matrix:\n"
     ]
    },
    {
     "name": "stdin",
     "output_type": "stream",
     "text": [
      "Enter element at row 1, column 1:  2\n",
      "Enter element at row 1, column 2:  2\n",
      "Enter element at row 2, column 1:  2\n",
      "Enter element at row 2, column 2:  2\n"
     ]
    },
    {
     "name": "stdout",
     "output_type": "stream",
     "text": [
      "Enter elements of the second matrix:\n"
     ]
    },
    {
     "name": "stdin",
     "output_type": "stream",
     "text": [
      "Enter element at row 1, column 1:  23\n",
      "Enter element at row 1, column 2:  23\n",
      "Enter element at row 2, column 1:  23\n",
      "Enter element at row 2, column 2:  23\n"
     ]
    },
    {
     "name": "stdout",
     "output_type": "stream",
     "text": [
      "\n",
      "Matrix 1:\n",
      "2.0\t2.0\t\n",
      "2.0\t2.0\t\n",
      "\n",
      "Matrix 2:\n",
      "23.0\t23.0\t\n",
      "23.0\t23.0\t\n",
      "\n",
      "Matrix Multiplication Result:\n",
      "92.0\t92.0\t\n",
      "92.0\t92.0\t\n"
     ]
    }
   ],
   "source": [
    "def input_matrix(rows, cols):\n",
    "    matrix = []\n",
    "    for i in range(rows):\n",
    "        row = []\n",
    "        for j in range(cols):\n",
    "            element = float(input(f\"Enter element at row {i + 1}, column {j + 1}: \"))\n",
    "            row.append(element)\n",
    "        matrix.append(row)\n",
    "    return matrix\n",
    "\n",
    "# Function to print a matrix\n",
    "def print_matrix(matrix):\n",
    "    for row in matrix:\n",
    "        for element in row:\n",
    "            print(element, end=\" \")\n",
    "        print()\n",
    "\n",
    "# Function to perform matrix multiplication\n",
    "def multiply_matrices(matrix1, matrix2):\n",
    "    # Check if matrices can be multiplied\n",
    "    if len(matrix1[0]) != len(matrix2):\n",
    "        return None\n",
    "\n",
    "    # Initialize the result matrix with zeros\n",
    "    result = []\n",
    "    for i in range(len(matrix1)):\n",
    "        row = []\n",
    "        for j in range(len(matrix2[0])):\n",
    "            row.append(0)\n",
    "        result.append(row)\n",
    "\n",
    "    # Perform matrix multiplication\n",
    "    for i in range(len(matrix1)):\n",
    "        for j in range(len(matrix2[0])):\n",
    "            for k in range(len(matrix2)):\n",
    "                result[i][j] += matrix1[i][k] * matrix2[k][j]\n",
    "\n",
    "    return result\n",
    "\n",
    "# Input the dimensions of the first matrix\n",
    "rows1 = int(input(\"Enter the number of rows for the first matrix: \"))\n",
    "cols1 = int(input(\"Enter the number of columns for the first matrix: \"))\n",
    "\n",
    "# Input the dimensions of the second matrix\n",
    "rows2 = int(input(\"Enter the number of rows for the second matrix: \"))\n",
    "cols2 = int(input(\"Enter the number of columns for the second matrix: \"))\n",
    "\n",
    "# Input the first matrix\n",
    "print(\"Enter elements of the first matrix:\")\n",
    "matrix1 = input_matrix(rows1, cols1)\n",
    "\n",
    "# Input the second matrix\n",
    "print(\"Enter elements of the second matrix:\")\n",
    "matrix2 = input_matrix(rows2, cols2)\n",
    "\n",
    "# Perform matrix multiplication\n",
    "result = multiply_matrices(matrix1, matrix2)\n",
    "\n",
    "# Print the results\n",
    "if result is not None:\n",
    "    print(\"\\nMatrix 1:\")\n",
    "    print_matrix(matrix1)\n",
    "\n",
    "    print(\"\\nMatrix 2:\")\n",
    "    print_matrix(matrix2)\n",
    "\n",
    "    print(\"\\nMatrix Multiplication Result:\")\n",
    "    print_matrix(result)\n",
    "else:\n",
    "    print(\"Matrix multiplication is not possible due to incompatible dimensions.\")"
   ]
  },
  {
   "cell_type": "markdown",
   "id": "77f99a49-cd0f-464b-9917-893f23881e27",
   "metadata": {},
   "source": [
    "35. Create a program that simulates a basic text-based tic-tac-toe game against the computer."
   ]
  },
  {
   "cell_type": "code",
   "execution_count": 1,
   "id": "8f8e85c4-ea61-43fc-8b45-382c0ca49157",
   "metadata": {},
   "outputs": [
    {
     "name": "stdout",
     "output_type": "stream",
     "text": [
      "[[0 0 0]\n",
      " [0 0 0]\n",
      " [0 0 0]]\n",
      "Board after 1 move\n",
      "[[0 0 0]\n",
      " [0 0 0]\n",
      " [1 0 0]]\n",
      "Board after 2 move\n",
      "[[0 0 0]\n",
      " [0 0 0]\n",
      " [1 2 0]]\n",
      "Board after 3 move\n",
      "[[0 0 0]\n",
      " [0 0 1]\n",
      " [1 2 0]]\n",
      "Board after 4 move\n",
      "[[0 2 0]\n",
      " [0 0 1]\n",
      " [1 2 0]]\n",
      "Board after 5 move\n",
      "[[0 2 0]\n",
      " [1 0 1]\n",
      " [1 2 0]]\n",
      "Board after 6 move\n",
      "[[0 2 0]\n",
      " [1 2 1]\n",
      " [1 2 0]]\n",
      "Winner is: 2\n"
     ]
    }
   ],
   "source": [
    "# Tic-Tac-Toe Program using\n",
    "# random number in Python\n",
    "\n",
    "# importing all necessary libraries\n",
    "import numpy as np\n",
    "import random\n",
    "from time import sleep\n",
    "\n",
    "# Creates an empty board\n",
    "def create_board():\n",
    "\treturn(np.array([[0, 0, 0],\n",
    "\t\t\t\t\t[0, 0, 0],\n",
    "\t\t\t\t\t[0, 0, 0]]))\n",
    "\n",
    "# Check for empty places on board\n",
    "def possibilities(board):\n",
    "\tl = []\n",
    "\n",
    "\tfor i in range(len(board)):\n",
    "\t\tfor j in range(len(board)):\n",
    "\n",
    "\t\t\tif board[i][j] == 0:\n",
    "\t\t\t\tl.append((i, j))\n",
    "\treturn(l)\n",
    "\n",
    "# Select a random place for the player\n",
    "def random_place(board, player):\n",
    "\tselection = possibilities(board)\n",
    "\tcurrent_loc = random.choice(selection)\n",
    "\tboard[current_loc] = player\n",
    "\treturn(board)\n",
    "# Checks whether the player has three\n",
    "# of their marks in a horizontal row\n",
    "def row_win(board, player):\n",
    "\tfor x in range(len(board)):\n",
    "\t\twin = True\n",
    "\n",
    "\t\tfor y in range(len(board)):\n",
    "\t\t\tif board[x, y] != player:\n",
    "\t\t\t\twin = False\n",
    "\t\t\t\tcontinue\n",
    "\n",
    "\t\tif win == True:\n",
    "\t\t\treturn(win)\n",
    "\treturn(win)\n",
    "\n",
    "# Checks whether the player has three\n",
    "# of their marks in a vertical row\n",
    "def col_win(board, player):\n",
    "\tfor x in range(len(board)):\n",
    "\t\twin = True\n",
    "\n",
    "\t\tfor y in range(len(board)):\n",
    "\t\t\tif board[y][x] != player:\n",
    "\t\t\t\twin = False\n",
    "\t\t\t\tcontinue\n",
    "\n",
    "\t\tif win == True:\n",
    "\t\t\treturn(win)\n",
    "\treturn(win)\n",
    "\n",
    "# Checks whether the player has three\n",
    "# of their marks in a diagonal row\n",
    "\n",
    "\n",
    "def diag_win(board, player):\n",
    "\twin = True\n",
    "\ty = 0\n",
    "\tfor x in range(len(board)):\n",
    "\t\tif board[x, x] != player:\n",
    "\t\t\twin = False\n",
    "\tif win:\n",
    "\t\treturn win\n",
    "\twin = True\n",
    "\tif win:\n",
    "\t\tfor x in range(len(board)):\n",
    "\t\t\ty = len(board) - 1 - x\n",
    "\t\t\tif board[x, y] != player:\n",
    "\t\t\t\twin = False\n",
    "\treturn win\n",
    "\n",
    "# Evaluates whether there is\n",
    "# a winner or a tie\n",
    "\n",
    "\n",
    "def evaluate(board):\n",
    "\twinner = 0\n",
    "\n",
    "\tfor player in [1, 2]:\n",
    "\t\tif (row_win(board, player) or\n",
    "\t\t\t\tcol_win(board, player) or\n",
    "\t\t\t\tdiag_win(board, player)):\n",
    "\n",
    "\t\t\twinner = player\n",
    "\n",
    "\tif np.all(board != 0) and winner == 0:\n",
    "\t\twinner = -1\n",
    "\treturn winner\n",
    "\n",
    "# Main function to start the game\n",
    "\n",
    "\n",
    "def play_game():\n",
    "\tboard, winner, counter = create_board(), 0, 1\n",
    "\tprint(board)\n",
    "\tsleep(2)\n",
    "\n",
    "\twhile winner == 0:\n",
    "\t\tfor player in [1, 2]:\n",
    "\t\t\tboard = random_place(board, player)\n",
    "\t\t\tprint(\"Board after \" + str(counter) + \" move\")\n",
    "\t\t\tprint(board)\n",
    "\t\t\tsleep(2)\n",
    "\t\t\tcounter += 1\n",
    "\t\t\twinner = evaluate(board)\n",
    "\t\t\tif winner != 0:\n",
    "\t\t\t\tbreak\n",
    "\treturn(winner)\n",
    "\n",
    "\n",
    "# Driver Code\n",
    "print(\"Winner is: \" + str(play_game()))"
   ]
  },
  {
   "cell_type": "markdown",
   "id": "40ebaf7d-597e-4d5d-bc85-36273ea661e6",
   "metadata": {},
   "source": [
    "36. Write a program that generates Fibonacci numbers up to a specified term using iterative methods."
   ]
  },
  {
   "cell_type": "code",
   "execution_count": 6,
   "id": "8f50f1dd-0c09-4d0c-9939-4536e189c9cf",
   "metadata": {},
   "outputs": [
    {
     "name": "stdout",
     "output_type": "stream",
     "text": [
      "0\n",
      "1\n",
      "1\n",
      "2\n",
      "3\n",
      "5\n",
      "8\n",
      "13\n",
      "21\n",
      "34\n",
      "55\n",
      "89\n"
     ]
    }
   ],
   "source": [
    "x = 0\n",
    "y = 1\n",
    "\n",
    "print(x)\n",
    "print(y)\n",
    "\n",
    "for i in range(10):\n",
    "    z = x + y\n",
    "    x = y\n",
    "    y = z\n",
    "    print(z)"
   ]
  },
  {
   "cell_type": "markdown",
   "id": "bd8731ee-6278-433e-9890-37e7dabdea15",
   "metadata": {},
   "source": [
    "37. Develop a program that calculates the nth term of the Fibonacci sequence using memoization."
   ]
  },
  {
   "cell_type": "code",
   "execution_count": 8,
   "id": "0d61a3de-7493-47ef-a4f2-1d9db76d1b98",
   "metadata": {},
   "outputs": [
    {
     "name": "stdin",
     "output_type": "stream",
     "text": [
      "Enter the value of n:  10\n"
     ]
    },
    {
     "name": "stdout",
     "output_type": "stream",
     "text": [
      "The 10th Fibonacci number is 55\n"
     ]
    }
   ],
   "source": [
    "x = 0\n",
    "y = 1\n",
    "\n",
    "# Input the value of n\n",
    "n = int(input(\"Enter the value of n: \"))\n",
    "\n",
    "for i in range(n - 1):\n",
    "    z = x + y\n",
    "    x = y\n",
    "    y = z\n",
    "\n",
    "print(f\"The {n}th Fibonacci number is {z}\")"
   ]
  },
  {
   "cell_type": "markdown",
   "id": "08c2b4c6-d9d4-4ab1-b880-694289310d69",
   "metadata": {},
   "source": [
    "38. Create a program that generates a calendar for a given month and year using conditional statements."
   ]
  },
  {
   "cell_type": "code",
   "execution_count": 9,
   "id": "e7a6f959-cef2-4e78-94df-14ba525a5d07",
   "metadata": {},
   "outputs": [
    {
     "name": "stdin",
     "output_type": "stream",
     "text": [
      "Enter the year:  2023\n",
      "Enter the month (1-12):  9\n"
     ]
    },
    {
     "name": "stdout",
     "output_type": "stream",
     "text": [
      "Calendar for September 2023:\n",
      "\n",
      "   September 2023\n",
      "Mo Tu We Th Fr Sa Su\n",
      "             1  2  3\n",
      " 4  5  6  7  8  9 10\n",
      "11 12 13 14 15 16 17\n",
      "18 19 20 21 22 23 24\n",
      "25 26 27 28 29 30\n",
      "\n"
     ]
    }
   ],
   "source": [
    "import calendar\n",
    "\n",
    "# Input month and year\n",
    "year = int(input(\"Enter the year: \"))\n",
    "month = int(input(\"Enter the month (1-12): \"))\n",
    "\n",
    "# Validate input\n",
    "if month < 1 or month > 12:\n",
    "    print(\"Invalid month. Please enter a month between 1 and 12.\")\n",
    "else:\n",
    "    # Create a calendar object for the specified month and year\n",
    "    cal = calendar.month(year, month)\n",
    "\n",
    "    # Print the calendar\n",
    "    print(f\"Calendar for {calendar.month_name[month]} {year}:\\n\")\n",
    "    print(cal)"
   ]
  },
  {
   "cell_type": "code",
   "execution_count": 12,
   "id": "b63e44e7-a80a-467f-8a86-f2da34778658",
   "metadata": {},
   "outputs": [
    {
     "name": "stdout",
     "output_type": "stream",
     "text": [
      "   September 2023\n",
      "Mo Tu We Th Fr Sa Su\n",
      "             1  2  3\n",
      " 4  5  6  7  8  9 10\n",
      "11 12 13 14 15 16 17\n",
      "18 19 20 21 22 23 24\n",
      "25 26 27 28 29 30\n",
      "\n"
     ]
    }
   ],
   "source": [
    "import calendar as cl\n",
    "a = cl.month(2023,9)\n",
    "\n",
    "print(a)"
   ]
  },
  {
   "cell_type": "code",
   "execution_count": 15,
   "id": "5666d758-6eea-46d9-88a9-0accc093fc90",
   "metadata": {},
   "outputs": [
    {
     "name": "stdout",
     "output_type": "stream",
     "text": [
      "Cards Player Has: [('2', 'Spades'), ('10', 'Spades')]\n",
      "Score Of The Player: 12\n",
      "\n",
      "\n"
     ]
    },
    {
     "name": "stdin",
     "output_type": "stream",
     "text": [
      "What do you want? [\"play\" to request another card, \"stop\" to stop]:  stop\n"
     ]
    },
    {
     "name": "stdout",
     "output_type": "stream",
     "text": [
      "Cards Dealer Has: [('Jack', 'Hearts'), ('5', 'Clubs'), ('Queen', 'Spades')]\n",
      "Score Of The Dealer: 25\n",
      "\n",
      "\n",
      "Cards Dealer Has: [('Jack', 'Hearts'), ('5', 'Clubs'), ('Queen', 'Spades')]\n",
      "Score Of The Dealer: 25\n",
      "Cards Player Has: [('2', 'Spades'), ('10', 'Spades')]\n",
      "Score Of The Player: 12\n",
      "Player wins (Dealer Loss Because Dealer Score is exceeding 21)\n"
     ]
    }
   ],
   "source": [
    "import random\n",
    "\n",
    "card_categories = ['Hearts', 'Diamonds', 'Clubs', 'Spades']\n",
    "cards_list = ['Ace', '2', '3', '4', '5', '6', '7', '8', '9', '10', 'Jack', 'Queen', 'King']\n",
    "deck = [(card, category) for category in card_categories for card in cards_list]\n",
    "\n",
    "def card_value(card):\n",
    "\tif card[0] in ['Jack', 'Queen', 'King']:\n",
    "\t\treturn 10\n",
    "\telif card[0] == 'Ace':\n",
    "\t\treturn 11\n",
    "\telse:\n",
    "\t\treturn int(card[0])\n",
    "\n",
    "random.shuffle(deck)\n",
    "player_card = [deck.pop(), deck.pop()]\n",
    "dealer_card = [deck.pop(), deck.pop()]\n",
    "\n",
    "while True:\n",
    "\tplayer_score = sum(card_value(card) for card in player_card)\n",
    "\tdealer_score = sum(card_value(card) for card in dealer_card)\n",
    "\tprint(\"Cards Player Has:\", player_card)\n",
    "\tprint(\"Score Of The Player:\", player_score)\n",
    "\tprint(\"\\n\")\n",
    "\tchoice = input('What do you want? [\"play\" to request another card, \"stop\" to stop]: ').lower()\n",
    "\tif choice == \"play\":\n",
    "\t\tnew_card = deck.pop()\n",
    "\t\tplayer_card.append(new_card)\n",
    "\telif choice == \"stop\":\n",
    "\t\tbreak\n",
    "\telse:\n",
    "\t\tprint(\"Invalid choice. Please try again.\")\n",
    "\t\tcontinue\n",
    "\n",
    "\tif player_score > 21:\n",
    "\t\tprint(\"Cards Dealer Has:\", dealer_card)\n",
    "\t\tprint(\"Score Of The Dealer:\", dealer_score)\n",
    "\t\tprint(\"Cards Player Has:\", player_card)\n",
    "\t\tprint(\"Score Of The Player:\", player_score)\n",
    "\t\tprint(\"Dealer wins (Player Loss Because Player Score is exceeding 21)\")\n",
    "\t\tbreak\n",
    "\n",
    "while dealer_score < 17:\n",
    "\tnew_card = deck.pop()\n",
    "\tdealer_card.append(new_card)\n",
    "\tdealer_score += card_value(new_card)\n",
    "\n",
    "print(\"Cards Dealer Has:\", dealer_card)\n",
    "print(\"Score Of The Dealer:\", dealer_score)\n",
    "print(\"\\n\")\n",
    "\n",
    "if dealer_score > 21:\n",
    "\tprint(\"Cards Dealer Has:\", dealer_card)\n",
    "\tprint(\"Score Of The Dealer:\", dealer_score)\n",
    "\tprint(\"Cards Player Has:\", player_card)\n",
    "\tprint(\"Score Of The Player:\", player_score)\n",
    "\tprint(\"Player wins (Dealer Loss Because Dealer Score is exceeding 21)\")\n",
    "elif player_score > dealer_score:\n",
    "\tprint(\"Cards Dealer Has:\", dealer_card)\n",
    "\tprint(\"Score Of The Dealer:\", dealer_score)\n",
    "\tprint(\"Cards Player Has:\", player_card)\n",
    "\tprint(\"Score Of The Player:\", player_score)\n",
    "\tprint(\"Player wins (Player Has High Score than Dealer)\")\n",
    "elif dealer_score > player_score:\n",
    "\tprint(\"Cards Dealer Has:\", dealer_card)\n",
    "\tprint(\"Score Of The Dealer:\", dealer_score)\n",
    "\tprint(\"Cards Player Has:\", player_card)\n",
    "\tprint(\"Score Of The Player:\", player_score)\n",
    "\tprint(\"Dealer wins (Dealer Has High Score than Player)\")\n",
    "else:\n",
    "\tprint(\"Cards Dealer Has:\", dealer_card)\n",
    "\tprint(\"Score Of The Dealer:\", dealer_score)\n",
    "\tprint(\"Cards Player Has:\", player_card)\n",
    "\tprint(\"Score Of The Player:\", player_score)\n",
    "\tprint(\"It's a tie.\")\n"
   ]
  },
  {
   "cell_type": "code",
   "execution_count": 16,
   "id": "ba232b18-440c-4dad-9b74-fa224d431ebd",
   "metadata": {},
   "outputs": [
    {
     "name": "stdin",
     "output_type": "stream",
     "text": [
      "Enter a positive integer:  12\n"
     ]
    },
    {
     "name": "stdout",
     "output_type": "stream",
     "text": [
      "The prime factors of 12 are: 2, 2, 3\n"
     ]
    }
   ],
   "source": [
    "# Function to generate prime factors using trial division\n",
    "def prime_factors(n):\n",
    "    factors = []\n",
    "    divisor = 2\n",
    "    \n",
    "    while divisor <= n:\n",
    "        if n % divisor == 0:\n",
    "            factors.append(divisor)\n",
    "            n //= divisor\n",
    "        else:\n",
    "            divisor += 1\n",
    "    \n",
    "    return factors\n",
    "\n",
    "# Input the number\n",
    "num = int(input(\"Enter a positive integer: \"))\n",
    "\n",
    "if num < 2:\n",
    "    print(\"Prime factors are not defined for numbers less than 2.\")\n",
    "else:\n",
    "    factors = prime_factors(num)\n",
    "    \n",
    "    if len(factors) == 1:\n",
    "        print(f\"{num} is a prime number.\")\n",
    "    else:\n",
    "        print(f\"The prime factors of {num} are: {', '.join(map(str, factors))}\")"
   ]
  },
  {
   "cell_type": "code",
   "execution_count": null,
   "id": "ca854f58-3f6c-42dc-afc7-e85e6c15a242",
   "metadata": {},
   "outputs": [],
   "source": []
  }
 ],
 "metadata": {
  "kernelspec": {
   "display_name": "Python 3 (ipykernel)",
   "language": "python",
   "name": "python3"
  },
  "language_info": {
   "codemirror_mode": {
    "name": "ipython",
    "version": 3
   },
   "file_extension": ".py",
   "mimetype": "text/x-python",
   "name": "python",
   "nbconvert_exporter": "python",
   "pygments_lexer": "ipython3",
   "version": "3.10.8"
  }
 },
 "nbformat": 4,
 "nbformat_minor": 5
}
